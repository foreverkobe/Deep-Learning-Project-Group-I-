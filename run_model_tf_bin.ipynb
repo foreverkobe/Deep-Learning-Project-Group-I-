{
 "cells": [
  {
   "cell_type": "markdown",
   "metadata": {},
   "source": [
    "### This jupyter notebook runs the result of strategy improvement part"
   ]
  },
  {
   "cell_type": "code",
   "execution_count": 1,
   "metadata": {},
   "outputs": [],
   "source": [
    "import os\n",
    "import matplotlib.pyplot as plt\n",
    "import numpy as np\n",
    "import pandas as pd\n",
    "import shutil\n",
    "from sklearn.model_selection import train_test_split"
   ]
  },
  {
   "cell_type": "code",
   "execution_count": 2,
   "metadata": {},
   "outputs": [
    {
     "name": "stderr",
     "output_type": "stream",
     "text": [
      "/anaconda3/lib/python3.6/site-packages/h5py/__init__.py:36: FutureWarning: Conversion of the second argument of issubdtype from `float` to `np.floating` is deprecated. In future, it will be treated as `np.float64 == np.dtype(float).type`.\n",
      "  from ._conv import register_converters as _register_converters\n"
     ]
    },
    {
     "name": "stdout",
     "output_type": "stream",
     "text": [
      "height has been deprecated.\n",
      "\n"
     ]
    }
   ],
   "source": [
    "import tensorflow as tf\n",
    "\n",
    "from data_reader import z_score_inv\n",
    "from next_batch import LSTM_WINDOW_SIZE, INPUT_SIZE, PREDICTORS\n",
    "from next_batch import get_trainable_data\n",
    "\n",
    "from data_reader import read_vxx\n"
   ]
  },
  {
   "cell_type": "code",
   "execution_count": 3,
   "metadata": {},
   "outputs": [],
   "source": [
    "# random number seed\n",
    "seed=4"
   ]
  },
  {
   "cell_type": "code",
   "execution_count": 4,
   "metadata": {},
   "outputs": [],
   "source": [
    "# set DISPLAY=0;\n",
    "plt.ion()"
   ]
  },
  {
   "cell_type": "code",
   "execution_count": 5,
   "metadata": {},
   "outputs": [
    {
     "name": "stdout",
     "output_type": "stream",
     "text": [
      "x_train.shape = (1548, 10, 3)\n",
      "y_train.shape = (1548, 1)\n",
      "x_test.shape = (616, 10, 3)\n",
      "y_test.shape = (616, 1)\n",
      "x_train.shape = (1238, 10, 3)\n",
      "x_val.shape = (310, 10, 3)\n"
     ]
    }
   ],
   "source": [
    "##################################################################################################\n",
    "##'data_binary.npz' saves y variables 0(decrease) and 1(increase) direction of vxx index\n",
    "## x features here:\n",
    "\n",
    "#PREDICTORS = ['sigma',\n",
    "#              'returns',\n",
    "#              'VIX',\n",
    "#              'Trend COLOR',\n",
    "#              'Trend DEBT',\n",
    "#              'Trend ECONOMICS',\n",
    "#              'Trend HOUSING',\n",
    "#              'Trend INFLATION',\n",
    "#              'Trend MARKETS',\n",
    "#              'Trend REVENUE',\n",
    "#              'Trend STOCKS',\n",
    "#              'Trend UNEMPLOYMENT']\n",
    "\n",
    "DATA_FILE = 'data_binary.npz'\n",
    "if not os.path.exists(DATA_FILE):\n",
    "    (x_train, y_train), (x_test, y_test), mean, std = get_trainable_data()\n",
    "    np.savez_compressed( DATA_FILE, x_train=x_train, y_train=y_train, x_test=x_test, y_test=y_test,\n",
    "                        mean=mean, std=std)\n",
    "else:\n",
    "    d = np.load(DATA_FILE)\n",
    "    x_train = d['x_train']\n",
    "    y_train = d['y_train']\n",
    "    x_test = d['x_test']\n",
    "    y_test = d['y_test']\n",
    "    mean = d['mean']\n",
    "    std = d['std']\n",
    "\n",
    "###################################\n",
    "# Take first 3 features for testing\n",
    "x_train = x_train[:,:,0:3]\n",
    "x_test = x_test[:,:,0:3]\n",
    "###################################\n",
    "\n",
    "print('x_train.shape =', x_train.shape)\n",
    "print('y_train.shape =', y_train.shape)\n",
    "\n",
    "print('x_test.shape =', x_test.shape)\n",
    "print('y_test.shape =', y_test.shape)\n",
    "\n",
    "#To seperate train set and validation set\n",
    "x_train,x_val,y_train,y_val=train_test_split(x_train,y_train,test_size=0.2,random_state=seed)\n",
    "\n",
    "\n",
    "print('x_train.shape =',x_train.shape)\n",
    "print('x_val.shape =',x_val.shape)"
   ]
  },
  {
   "cell_type": "code",
   "execution_count": 6,
   "metadata": {},
   "outputs": [],
   "source": [
    "# Define the model function (following TF Estimator Template)\n",
    "# Here the class remain the same for all the structures\n",
    "class TFClassifier:\n",
    "    def __init__(self,\n",
    "                input_size, \n",
    "                window_size,\n",
    "                logit_function,\n",
    "                max_iter=600,\n",
    "                learning_rate=0.0001,\n",
    "                batch_size=32,\n",
    "                model_dir=\"./tfclassifier\",\n",
    "                load_from_disk=False,\n",
    "                summary_steps=None,\n",
    "                dtype=tf.float32,\n",
    "                use_adam_optimizer=False,\n",
    "                X_val=None,\n",
    "                Y_val=None):\n",
    "\n",
    "        \n",
    "        self.learning_rate=learning_rate\n",
    "        self.max_iter=max_iter\n",
    "        self.batch_size=batch_size\n",
    "        self.dtype=dtype\n",
    "        self.use_adam_optimizer=use_adam_optimizer\n",
    "        self.g=tf.Graph()\n",
    "        \n",
    "        with self.g.as_default():           \n",
    "            self.build_model(input_size,window_size,logit_function)\n",
    "        \n",
    "        self.load_from_disk=load_from_disk\n",
    "        if not self.load_from_disk:\n",
    "            shutil.rmtree(model_dir,ignore_errors=True)\n",
    "        self.dir=model_dir\n",
    "\n",
    "        if summary_steps is None:\n",
    "            self.summary_steps=max_iter//20\n",
    "        else:\n",
    "            self.summary_steps=summary_steps\n",
    "   \n",
    "        self.X_val=X_val\n",
    "        self.Y_val=Y_val\n",
    "        \n",
    "        self.perms=[]\n",
    "        \n",
    "    #Define loss function and optimizer    \n",
    "    def build_model(self,input_size,window_size,logit_function):\n",
    "    \n",
    "        self.global_step = tf.Variable(0,name='global_step')\n",
    "        self.in_training=tf.placeholder_with_default(0.0,shape=(None),name=\"in_training\")\n",
    "        \n",
    "        self.X=tf.placeholder(self.dtype,[None,window_size,input_size],name=\"X\")\n",
    "        self.Y=tf.placeholder(self.dtype,[None,1],name=\"Y\")\n",
    "   \n",
    "        # Predictions\n",
    "        self.pred=logit_function(self.X,self.in_training)\n",
    "        \n",
    "        # Define loss and optimizer\n",
    "        #self.loss = tf.reduce_mean(tf.abs(tf.divide(tf.subtract(self.pred,self.Y),self.Y)))\n",
    "        \n",
    "        # If we want to predict direction, use cross entropy.\n",
    "        self.loss = tf.reduce_mean(tf.nn.sigmoid_cross_entropy_with_logits(labels=self.Y, logits=self.pred))\n",
    "    \n",
    "        if self.use_adam_optimizer:\n",
    "            optimizer = tf.train.AdamOptimizer(learning_rate=self.learning_rate)\n",
    "        else:\n",
    "            optimizer = tf.train.GradientDescentOptimizer(learning_rate=self.learning_rate)\n",
    "        self.training_op = optimizer.minimize(self.loss, global_step=self.global_step)\n",
    "    \n",
    "        tf.summary.scalar(\"loss\",self.loss)\n",
    "        self.summary=tf.summary.merge_all()\n",
    "        \n",
    "        self.init = tf.global_variables_initializer()\n",
    "        \n",
    "        return \n",
    "\n",
    "    #Report value of loss function over a series of epochs\n",
    "    def report_summary(self,X,Y,sess,epoch,saver,train_summary_writer,val_summary_writer):\n",
    "        # we only want to report on a small say 1000, subset or train and valdiation\n",
    "        # sets, if not , reporting will be more expensive than training\n",
    "        N=min(1000,X.shape[0])\n",
    "        perm=np.random.choice(X.shape[0],N)\n",
    "        self.last_checkpoint=saver.save(sess,self.dir+\"/optimization.ckpt\",global_step=epoch)\n",
    "        xu=X[perm]\n",
    "        yu=Y[perm]\n",
    "        train_loss,train_summary=sess.run(fetches=[self.loss,self.summary],\n",
    "            feed_dict={self.X:xu,\n",
    "                       self.Y:yu})  \n",
    "        train_summary_writer.add_summary(train_summary,epoch)\n",
    "        \n",
    "        N=min(1000,self.X_val.shape[0])\n",
    "        perm=np.random.choice(self.X_val.shape[0],N)\n",
    "        val_loss,val_summary=sess.run(fetches=[self.loss,self.summary],\n",
    "            feed_dict={self.X:self.X_val[perm],\n",
    "                       self.Y:self.Y_val[perm]}\n",
    "                       )  \n",
    "        val_summary_writer.add_summary(val_summary,epoch)\n",
    "        print(\"Epoch\", epoch, \"Loss =\",train_loss,\"Evaluation Loss =\",val_loss)\n",
    "    \n",
    "    #Train Neural Network\n",
    "    def fit(self,X,Y):\n",
    "        N=len(X)\n",
    "        \n",
    "        with tf.Session(graph=self.g) as sess:\n",
    "            #tf.set_random_seed(3)\n",
    "            \n",
    "            saver = tf.train.Saver()\n",
    "            if self.load_from_disk:\n",
    "                saver.restore(sess,tf.train.latest_checkpoint(self.dir))\n",
    "            else:\n",
    "                if not os.path.exists(self.dir):\n",
    "                    os.mkdir(self.dir)\n",
    "                sess.run(self.init)\n",
    "            \n",
    "            step0=tf.train.global_step(sess,self.global_step)\n",
    "            train_summary_writer = tf.summary.FileWriter(self.dir+\"/train\", self.g)\n",
    "            val_summary_writer = tf.summary.FileWriter(self.dir+\"/validation\", self.g)\n",
    "            step=step0\n",
    "            step_last=step\n",
    "            \n",
    "            #set random seed\n",
    "            np.random.seed(seed)\n",
    "            while step<step0+self.max_iter:  \n",
    "                if  (step% self.summary_steps)<=(step_last % self.summary_steps): # we have grapped around\n",
    "                   self.report_summary(X,Y,sess,step,saver,train_summary_writer,val_summary_writer)\n",
    "                step_last=step\n",
    "                \n",
    "                ##################################\n",
    "                #need to set seed to make the result reproducible\n",
    "                perm=np.random.permutation(N)\n",
    "                \n",
    "                self.perms.append(perm)\n",
    "                \n",
    "                ##################################\n",
    "                for i in range(0,N,self.batch_size):\n",
    "                    Xb=X[perm[i:i+self.batch_size]]\n",
    "                    Yb=Y[perm[i:i+self.batch_size]]\n",
    "                    sess.run([self.training_op],feed_dict={self.X:Xb,\n",
    "                                                           self.Y:Yb,\n",
    "                                                           self.in_training:1.0\n",
    "                                                           }) \n",
    "                    \n",
    "                    step+=1\n",
    "            self.report_summary(X,Y,sess,step0+self.max_iter,saver,train_summary_writer,val_summary_writer)\n",
    "            self.load_from_disk=True # make sure we restart next fit from previous level so that we can call fit multiple times\n",
    "   \n",
    "    #Predict y variables\n",
    "    def predict(self,X,batch_size=1000):\n",
    "        \n",
    "        with tf.Session(graph=self.g) as sess:\n",
    "            saver = tf.train.Saver()\n",
    "            saver.restore(sess,tf.train.latest_checkpoint(self.dir))\n",
    "            ys=[]\n",
    "            for start in range(0,X.shape[0],batch_size):\n",
    "                \n",
    "                yb=sess.run([self.pred],feed_dict={self.X:X[slice(start,start+batch_size)]})\n",
    "                ys.append(yb)\n",
    "        y=np.concatenate(ys,axis=1).ravel()\n",
    "        \n",
    "        # apply sigmoid and set threshold to 0.5 to get direction prediction\n",
    "        pred = np.round(1 / (1 + np.exp(-y)))\n",
    "        \n",
    "        return pred\n"
   ]
  },
  {
   "cell_type": "code",
   "execution_count": 7,
   "metadata": {},
   "outputs": [],
   "source": [
    "#Definition of RNN structure\n",
    "#We modify architecture to reduce parameters and improve robustness in this class\n",
    "class LSTM_Model:\n",
    "    def __init__(self,input_size = INPUT_SIZE,window_size = LSTM_WINDOW_SIZE,hidden1 = 32,hidden2 = 16):\n",
    "        self.input_size=input_size\n",
    "        self.window_size=window_size\n",
    "        self.hidden1=hidden1\n",
    "        self.hidden2=hidden2\n",
    "        \n",
    "    def __call__(self,x,in_training):\n",
    "        #GRU cell\n",
    "        cell1 =tf.nn.rnn_cell.DropoutWrapper(tf.nn.rnn_cell.GRUCell(self.hidden1,\n",
    "                                                                    activation=tf.nn.tanh,\n",
    "                                                                    kernel_initializer=tf.glorot_uniform_initializer(seed=seed)\n",
    "                                                                    ),\n",
    "                                                                    input_keep_prob=1.0-0.0*in_training # no dropout for first layer\n",
    "                                                                    )\n",
    "\n",
    "\n",
    "        output, state = tf.nn.dynamic_rnn(cell1, \n",
    "                                      x,\n",
    "                                      #initial_state=initial_state, \n",
    "                                      dtype = tf.float32)\n",
    "        \n",
    "        \n",
    "        # dense layer 1\n",
    "        output1=tf.layers.dense(inputs=state, units=self.hidden2,activation='sigmoid',\n",
    "                                kernel_initializer=tf.glorot_uniform_initializer(seed=seed)\n",
    "                                )\n",
    "        \n",
    "        # dense layer 2\n",
    "        output2=tf.layers.dense(inputs=output1, units=1,kernel_initializer=tf.glorot_uniform_initializer(seed=seed))\n",
    "       \n",
    "\n",
    "        print(x.shape)\n",
    "        #print(state.h.shape)\n",
    "        print(output1.shape)\n",
    "        print(output2.shape)\n",
    "        return output2\n"
   ]
  },
  {
   "cell_type": "code",
   "execution_count": 8,
   "metadata": {},
   "outputs": [],
   "source": [
    "# specify the nodes in each layer, number of features and rolling window size \n",
    "INPUT_SIZE = x_train.shape[2]\n",
    "lstm_model=LSTM_Model(INPUT_SIZE,LSTM_WINDOW_SIZE,32,16)"
   ]
  },
  {
   "cell_type": "code",
   "execution_count": 9,
   "metadata": {},
   "outputs": [
    {
     "name": "stdout",
     "output_type": "stream",
     "text": [
      "(?, 10, 3)\n",
      "(?, 16)\n",
      "(?, 1)\n"
     ]
    }
   ],
   "source": [
    "# Build the Estimator\n",
    "model = TFClassifier(INPUT_SIZE,\n",
    "                     LSTM_WINDOW_SIZE,\n",
    "                     lstm_model,\n",
    "                     max_iter=1500,\n",
    "                     #max_iter=1000,\n",
    "                     #learning_rate=0.001,\n",
    "                     learning_rate=0.001,\n",
    "                     batch_size=32,\n",
    "                     model_dir=\"./tfclassifier\",\n",
    "                     load_from_disk=False,\n",
    "                     summary_steps=None,\n",
    "                     dtype=tf.float32,\n",
    "                     use_adam_optimizer=True,\n",
    "                     X_val=x_val,\n",
    "                     Y_val=y_val\n",
    "                    )"
   ]
  },
  {
   "cell_type": "code",
   "execution_count": 10,
   "metadata": {},
   "outputs": [
    {
     "name": "stdout",
     "output_type": "stream",
     "text": [
      "Epoch 0 Loss = 0.689606 Evaluation Loss = 0.6865104\n",
      "Epoch 78 Loss = 0.6660733 Evaluation Loss = 0.6683097\n",
      "Epoch 156 Loss = 0.67701703 Evaluation Loss = 0.66625315\n",
      "Epoch 234 Loss = 0.67555344 Evaluation Loss = 0.67361844\n",
      "Epoch 312 Loss = 0.6708373 Evaluation Loss = 0.6751273\n",
      "Epoch 390 Loss = 0.6822861 Evaluation Loss = 0.6695799\n",
      "Epoch 468 Loss = 0.67250645 Evaluation Loss = 0.6723951\n",
      "Epoch 546 Loss = 0.671769 Evaluation Loss = 0.6530027\n",
      "Epoch 624 Loss = 0.671928 Evaluation Loss = 0.6456891\n",
      "Epoch 702 Loss = 0.6771361 Evaluation Loss = 0.6485274\n",
      "Epoch 780 Loss = 0.65957266 Evaluation Loss = 0.68629545\n",
      "Epoch 858 Loss = 0.6663633 Evaluation Loss = 0.6652518\n",
      "Epoch 936 Loss = 0.6773922 Evaluation Loss = 0.67169905\n",
      "Epoch 975 Loss = 0.66616464 Evaluation Loss = 0.66096747\n",
      "Epoch 1053 Loss = 0.6687706 Evaluation Loss = 0.6353447\n",
      "Epoch 1131 Loss = 0.6756189 Evaluation Loss = 0.6720297\n",
      "Epoch 1209 Loss = 0.6666135 Evaluation Loss = 0.6961672\n",
      "Epoch 1287 Loss = 0.66900414 Evaluation Loss = 0.6601748\n",
      "Epoch 1365 Loss = 0.6596196 Evaluation Loss = 0.67976177\n",
      "Epoch 1443 Loss = 0.6554667 Evaluation Loss = 0.6769489\n",
      "Epoch 1500 Loss = 0.6613709 Evaluation Loss = 0.6777755\n"
     ]
    }
   ],
   "source": [
    "model.fit(x_train,y_train)"
   ]
  },
  {
   "cell_type": "code",
   "execution_count": 11,
   "metadata": {},
   "outputs": [
    {
     "name": "stdout",
     "output_type": "stream",
     "text": [
      "INFO:tensorflow:Restoring parameters from ./tfclassifier/optimization.ckpt-1500\n",
      "INFO:tensorflow:Restoring parameters from ./tfclassifier/optimization.ckpt-1500\n",
      "train accuracy: 60.50%\n",
      "test accuracy: 58.44%\n"
     ]
    }
   ],
   "source": [
    "test_pred=model.predict(x_test)\n",
    "\n",
    "train_pred = model.predict(x_train)\n",
    "\n",
    "train_acc=np.mean(train_pred.flatten()==y_train.flatten())\n",
    "test_acc=np.mean(test_pred.flatten()==y_test.flatten())\n",
    "\n",
    "print('train accuracy: '+'{:.2%}'.format(train_acc))\n",
    "print('test accuracy: '+'{:.2%}'.format(test_acc))"
   ]
  },
  {
   "cell_type": "code",
   "execution_count": 12,
   "metadata": {},
   "outputs": [],
   "source": [
    "#trade vxx\n",
    "#Train Period: 04/12/2015-04/27/2015\n",
    "#Trade Period: 04/24/2015-10/03/2017 predict value starts from 04/27/2015\n",
    "#2 days ahead to apply delta t\n",
    "\n",
    "vxx = read_vxx()\n",
    "vxx = vxx.loc[vxx.index <= '2017-10-03 00:00:00']\n",
    "vxx = vxx.loc[vxx.index >= '2015-04-24 00:00:00']\n",
    "\n",
    "date_idx = vxx.index[1:]\n",
    "\n",
    "#Prepare trade data\n",
    "vxx_df = pd.DataFrame(data = {'sigma': vxx})\n",
    "vxx_df = vxx_df.rename(index=str, columns={\"sigma\": \"vxx\"})\n",
    "vxx_ret = pd.DataFrame(data = {\"vxx_ret\": np.log(vxx_df['vxx'].shift(-1)/vxx_df['vxx'])[1:]})\n",
    "\n",
    "vxx_ret['pred_ret'] = test_pred*2-1\n",
    "\n",
    "vxx_ret['strategy_ret'] = vxx_ret['pred_ret']*vxx_ret['vxx_ret']\n",
    "strategy_ret = vxx_ret['strategy_ret'].sum()\n",
    "\n",
    "win_prob = vxx_ret[vxx_ret['strategy_ret']>0].shape[0]/vxx_ret.shape[0]\n",
    "\n",
    "pnl=vxx_ret['strategy_ret'].cumsum()"
   ]
  },
  {
   "cell_type": "code",
   "execution_count": 13,
   "metadata": {},
   "outputs": [
    {
     "data": {
      "image/png": "[encoded data removed]",
      "text/plain": [
       "<matplotlib.figure.Figure at 0x1a34f7ee10>"
      ]
     },
     "metadata": {},
     "output_type": "display_data"
    }
   ],
   "source": [
    "f = plt.figure(figsize=[12,8])\n",
    "ax = f.add_subplot(111)\n",
    "ax.plot(date_idx,pnl)\n",
    "ax.set_ylabel('P&L')\n",
    "ax.set_title('P&L for trading strategy for 1 dollar invested(binary prediction)')\n",
    "f.savefig('Pnl_binary.png')"
   ]
  },
  {
   "cell_type": "code",
   "execution_count": 14,
   "metadata": {},
   "outputs": [
    {
     "name": "stdout",
     "output_type": "stream",
     "text": [
      "Winning Probability of trading strategy: 57.63%\n"
     ]
    }
   ],
   "source": [
    "print('Winning Probability of trading strategy: '+'{:.2%}'.format(win_prob))"
   ]
  },
  {
   "cell_type": "code",
   "execution_count": 19,
   "metadata": {},
   "outputs": [
    {
     "data": {
      "image/png": "[encoded data removed]",
      "text/plain": [
       "<matplotlib.figure.Figure at 0x1a38317898>"
      ]
     },
     "metadata": {},
     "output_type": "display_data"
    }
   ],
   "source": [
    "f = plt.figure(figsize=[12,8])\n",
    "ax = f.add_subplot(111)\n",
    "ax.plot(date_idx,-vxx_ret['vxx_ret'].cumsum())\n",
    "ax.set_ylabel('P&L')\n",
    "ax.set_title('P&L for short and hold strategy for 1 dollar invested(binary prediction)')\n",
    "f.savefig('P&L for short and hold strategy.png')"
   ]
  },
  {
   "cell_type": "code",
   "execution_count": null,
   "metadata": {},
   "outputs": [],
   "source": []
  }
 ],
 "metadata": {
  "kernelspec": {
   "display_name": "Python 3",
   "language": "python",
   "name": "python3"
  },
  "language_info": {
   "codemirror_mode": {
    "name": "ipython",
    "version": 3
   },
   "file_extension": ".py",
   "mimetype": "text/x-python",
   "name": "python",
   "nbconvert_exporter": "python",
   "pygments_lexer": "ipython3",
   "version": "3.6.6"
  }
 },
 "nbformat": 4,
 "nbformat_minor": 2
}
